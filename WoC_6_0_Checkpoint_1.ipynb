{
  "nbformat": 4,
  "nbformat_minor": 0,
  "metadata": {
    "colab": {
      "provenance": []
    },
    "kernelspec": {
      "name": "python3",
      "display_name": "Python 3"
    },
    "language_info": {
      "name": "python"
    }
  },
  "cells": [
    {
      "cell_type": "markdown",
      "source": [
        "#Importing Library"
      ],
      "metadata": {
        "id": "gIpkv7uGal_l"
      }
    },
    {
      "cell_type": "code",
      "execution_count": 1,
      "metadata": {
        "id": "gyCig6L7ajDd"
      },
      "outputs": [],
      "source": [
        "import numpy as np"
      ]
    },
    {
      "cell_type": "markdown",
      "source": [
        "#Implementing functions"
      ],
      "metadata": {
        "id": "HHDkGATOaruS"
      }
    },
    {
      "cell_type": "markdown",
      "source": [
        "##np.array()"
      ],
      "metadata": {
        "id": "y9so9ltHb95A"
      }
    },
    {
      "cell_type": "code",
      "source": [
        "# Create a NumPy array\n",
        "arr = np.array([1, 2, 3, 4, 5])\n",
        "print(\"np.array():\", arr)"
      ],
      "metadata": {
        "colab": {
          "base_uri": "https://localhost:8080/"
        },
        "id": "OiNf3oYYalfP",
        "outputId": "3522fd24-042f-4e2b-ce99-f6f51d62ce83"
      },
      "execution_count": 2,
      "outputs": [
        {
          "output_type": "stream",
          "name": "stdout",
          "text": [
            "np.array(): [1 2 3 4 5]\n"
          ]
        }
      ]
    },
    {
      "cell_type": "markdown",
      "source": [
        "##np.zeros()"
      ],
      "metadata": {
        "id": "IJ29KpgbcC1k"
      }
    },
    {
      "cell_type": "code",
      "source": [
        "# Create a NumPy array filled with zeros\n",
        "zeros_arr = np.zeros(5)\n",
        "print(\"np.zeros():\", zeros_arr)"
      ],
      "metadata": {
        "colab": {
          "base_uri": "https://localhost:8080/"
        },
        "id": "WFGBoqC3bGcA",
        "outputId": "31cac642-9a7f-4901-e2d2-504981fa5214"
      },
      "execution_count": 3,
      "outputs": [
        {
          "output_type": "stream",
          "name": "stdout",
          "text": [
            "np.zeros(): [0. 0. 0. 0. 0.]\n"
          ]
        }
      ]
    },
    {
      "cell_type": "markdown",
      "source": [
        "##np.ones()"
      ],
      "metadata": {
        "id": "BDRSnWyKcFSb"
      }
    },
    {
      "cell_type": "code",
      "source": [
        "# Create a NumPy array filled with ones\n",
        "ones_arr = np.ones(5)\n",
        "print(\"np.ones():\", ones_arr)"
      ],
      "metadata": {
        "colab": {
          "base_uri": "https://localhost:8080/"
        },
        "id": "qOsMfsXbbJp_",
        "outputId": "064b8795-da02-4154-dae7-d2f8f0ffc0de"
      },
      "execution_count": 4,
      "outputs": [
        {
          "output_type": "stream",
          "name": "stdout",
          "text": [
            "np.ones(): [1. 1. 1. 1. 1.]\n"
          ]
        }
      ]
    },
    {
      "cell_type": "markdown",
      "source": [
        "##np.reshape()"
      ],
      "metadata": {
        "id": "wNrdnqM-cH54"
      }
    },
    {
      "cell_type": "code",
      "source": [
        "# Reshape a NumPy array\n",
        "reshaped_arr = np.reshape(arr, (1, 5))\n",
        "print(\"np.reshape():\", reshaped_arr)"
      ],
      "metadata": {
        "colab": {
          "base_uri": "https://localhost:8080/"
        },
        "id": "_agfNYbfbNU_",
        "outputId": "98bb219c-9325-44a8-b427-e4a86a7dce38"
      },
      "execution_count": 5,
      "outputs": [
        {
          "output_type": "stream",
          "name": "stdout",
          "text": [
            "np.reshape(): [[1 2 3 4 5]]\n"
          ]
        }
      ]
    },
    {
      "cell_type": "markdown",
      "source": [
        "##np.concatenate()"
      ],
      "metadata": {
        "id": "KkOft_WDcKt-"
      }
    },
    {
      "cell_type": "code",
      "source": [
        "# Concatenate two NumPy arrays\n",
        "concatenated_arr = np.concatenate([arr, zeros_arr])\n",
        "print(\"np.concatenate():\", concatenated_arr)"
      ],
      "metadata": {
        "colab": {
          "base_uri": "https://localhost:8080/"
        },
        "id": "e-OKV180bRM_",
        "outputId": "b12e3318-3182-41c6-86b0-7d079e231fb1"
      },
      "execution_count": 6,
      "outputs": [
        {
          "output_type": "stream",
          "name": "stdout",
          "text": [
            "np.concatenate(): [1. 2. 3. 4. 5. 0. 0. 0. 0. 0.]\n"
          ]
        }
      ]
    },
    {
      "cell_type": "markdown",
      "source": [
        "##np.mean()"
      ],
      "metadata": {
        "id": "grF8Bm32cN85"
      }
    },
    {
      "cell_type": "code",
      "source": [
        "# Calculate the mean of a NumPy array\n",
        "mean_value = np.mean(arr)\n",
        "print(\"np.mean():\", mean_value)"
      ],
      "metadata": {
        "colab": {
          "base_uri": "https://localhost:8080/"
        },
        "id": "tF7D1bM1bUuG",
        "outputId": "6d343e51-c897-4b00-806b-26ad91eecf97"
      },
      "execution_count": 7,
      "outputs": [
        {
          "output_type": "stream",
          "name": "stdout",
          "text": [
            "np.mean(): 3.0\n"
          ]
        }
      ]
    },
    {
      "cell_type": "markdown",
      "source": [
        "##np.sum()"
      ],
      "metadata": {
        "id": "jnbBHTxYcRLS"
      }
    },
    {
      "cell_type": "code",
      "source": [
        "# Calculate the sum of a NumPy array\n",
        "sum_value = np.sum(arr)\n",
        "print(\"np.sum():\", sum_value)"
      ],
      "metadata": {
        "colab": {
          "base_uri": "https://localhost:8080/"
        },
        "id": "Yoh4VzO6bX0S",
        "outputId": "7e01ec23-fd8a-48fd-d43e-74a595e820b1"
      },
      "execution_count": 8,
      "outputs": [
        {
          "output_type": "stream",
          "name": "stdout",
          "text": [
            "np.sum(): 15\n"
          ]
        }
      ]
    },
    {
      "cell_type": "markdown",
      "source": [
        "##np.min()"
      ],
      "metadata": {
        "id": "ApZmdDVecVJy"
      }
    },
    {
      "cell_type": "code",
      "source": [
        "# Find the minimum value in a NumPy array\n",
        "min_value = np.min(arr)\n",
        "print(\"np.min():\", min_value)\n"
      ],
      "metadata": {
        "colab": {
          "base_uri": "https://localhost:8080/"
        },
        "id": "NHoRIFLVbbiy",
        "outputId": "8941de65-7273-4c65-8146-19221526ffa0"
      },
      "execution_count": 9,
      "outputs": [
        {
          "output_type": "stream",
          "name": "stdout",
          "text": [
            "np.min(): 1\n"
          ]
        }
      ]
    },
    {
      "cell_type": "markdown",
      "source": [
        "##np.max()"
      ],
      "metadata": {
        "id": "eCQJ0g_rcZ4V"
      }
    },
    {
      "cell_type": "code",
      "source": [
        "# Find the maximum value in a NumPy array\n",
        "max_value = np.max(arr)\n",
        "print(\"np.max():\", max_value)"
      ],
      "metadata": {
        "colab": {
          "base_uri": "https://localhost:8080/"
        },
        "id": "vSBJ7QGLbfsl",
        "outputId": "84bc709c-5683-4f34-ad20-417cde37f5ac"
      },
      "execution_count": 10,
      "outputs": [
        {
          "output_type": "stream",
          "name": "stdout",
          "text": [
            "np.max(): 5\n"
          ]
        }
      ]
    },
    {
      "cell_type": "markdown",
      "source": [
        "##np.argmax()"
      ],
      "metadata": {
        "id": "wAnQqFTFccJb"
      }
    },
    {
      "cell_type": "code",
      "source": [
        "# Find the index of the maximum value in a NumPy array\n",
        "argmax_index = np.argmax(arr)\n",
        "print(\"np.argmax():\", argmax_index)"
      ],
      "metadata": {
        "colab": {
          "base_uri": "https://localhost:8080/"
        },
        "id": "zPi_gffVbiLU",
        "outputId": "516225ed-6c70-44a0-8659-785445fe4f08"
      },
      "execution_count": 11,
      "outputs": [
        {
          "output_type": "stream",
          "name": "stdout",
          "text": [
            "np.argmax(): 4\n"
          ]
        }
      ]
    },
    {
      "cell_type": "markdown",
      "source": [
        "##np.argmin()"
      ],
      "metadata": {
        "id": "KHnSKWlbcfDB"
      }
    },
    {
      "cell_type": "code",
      "source": [
        "# Find the index of the minimum value in a NumPy array\n",
        "argmin_index = np.argmin(arr)\n",
        "print(\"np.argmin():\", argmin_index)"
      ],
      "metadata": {
        "colab": {
          "base_uri": "https://localhost:8080/"
        },
        "id": "V2wIFIoIbl9y",
        "outputId": "3e746650-1d94-451e-b429-995610d35c6c"
      },
      "execution_count": 12,
      "outputs": [
        {
          "output_type": "stream",
          "name": "stdout",
          "text": [
            "np.argmin(): 0\n"
          ]
        }
      ]
    },
    {
      "cell_type": "markdown",
      "source": [
        "##mp.random.rand()"
      ],
      "metadata": {
        "id": "l_-mONqBchyy"
      }
    },
    {
      "cell_type": "code",
      "source": [
        "# Generate random numbers from a uniform distribution\n",
        "rand_nums = np.random.rand(5)\n",
        "print(\"np.random.rand():\", rand_nums)"
      ],
      "metadata": {
        "colab": {
          "base_uri": "https://localhost:8080/"
        },
        "id": "oRjyPu7HbpGS",
        "outputId": "6ef9b167-29ef-4f40-ecef-f013958f704c"
      },
      "execution_count": 13,
      "outputs": [
        {
          "output_type": "stream",
          "name": "stdout",
          "text": [
            "np.random.rand(): [0.4187872  0.08021792 0.61052908 0.84119638 0.21095097]\n"
          ]
        }
      ]
    },
    {
      "cell_type": "markdown",
      "source": [
        "##np.random.randn()"
      ],
      "metadata": {
        "id": "XuYbttQjcmrh"
      }
    },
    {
      "cell_type": "code",
      "source": [
        "# Generate random numbers from a normal distribution\n",
        "randn_nums = np.random.randn(5)\n",
        "print(\"np.random.randn():\", randn_nums)"
      ],
      "metadata": {
        "colab": {
          "base_uri": "https://localhost:8080/"
        },
        "id": "6SHQirbDbvDx",
        "outputId": "c7d40fd5-7ee6-4ff1-acfe-18695dfd2806"
      },
      "execution_count": 14,
      "outputs": [
        {
          "output_type": "stream",
          "name": "stdout",
          "text": [
            "np.random.randn(): [-0.17479658 -0.12997712  0.20293246  0.71530309  1.4040372 ]\n"
          ]
        }
      ]
    },
    {
      "cell_type": "markdown",
      "source": [
        "##np.random.randint()"
      ],
      "metadata": {
        "id": "Lis14J5EcpiA"
      }
    },
    {
      "cell_type": "code",
      "source": [
        "# Generate random integers within a specified range\n",
        "rand_integers = np.random.randint(1, 10, 5)\n",
        "print(\"np.random.randint():\", rand_integers)"
      ],
      "metadata": {
        "colab": {
          "base_uri": "https://localhost:8080/"
        },
        "id": "LtEqG7lMbzs6",
        "outputId": "eb0488cd-c06f-4789-b7b0-9fb42c93f541"
      },
      "execution_count": 15,
      "outputs": [
        {
          "output_type": "stream",
          "name": "stdout",
          "text": [
            "np.random.randint(): [5 1 5 1 3]\n"
          ]
        }
      ]
    },
    {
      "cell_type": "markdown",
      "source": [
        "##np.dot()"
      ],
      "metadata": {
        "id": "ke36QToacsP0"
      }
    },
    {
      "cell_type": "code",
      "source": [
        "# Perform dot product between two NumPy arrays\n",
        "dot_product = np.dot(arr, ones_arr)\n",
        "print(\"np.dot():\", dot_product)"
      ],
      "metadata": {
        "colab": {
          "base_uri": "https://localhost:8080/"
        },
        "id": "fnjWpGayb4mb",
        "outputId": "4bd60e00-bf00-4011-b8de-a5c1b223bf84"
      },
      "execution_count": 16,
      "outputs": [
        {
          "output_type": "stream",
          "name": "stdout",
          "text": [
            "np.dot(): 15.0\n"
          ]
        }
      ]
    }
  ]
}